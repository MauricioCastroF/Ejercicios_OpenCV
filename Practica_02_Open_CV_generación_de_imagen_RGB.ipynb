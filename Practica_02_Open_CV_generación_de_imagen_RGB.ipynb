{
  "nbformat": 4,
  "nbformat_minor": 0,
  "metadata": {
    "colab": {
      "provenance": [],
      "authorship_tag": "ABX9TyOUhcWYfTkGXxpTPZUaQgjv",
      "include_colab_link": true
    },
    "kernelspec": {
      "name": "python3",
      "display_name": "Python 3"
    },
    "language_info": {
      "name": "python"
    }
  },
  "cells": [
    {
      "cell_type": "markdown",
      "metadata": {
        "id": "view-in-github",
        "colab_type": "text"
      },
      "source": [
        "<a href=\"https://colab.research.google.com/github/MauricioCastroF/Ejercicios_OpenCV/blob/main/Practica_02_Open_CV_generaci%C3%B3n_de_imagen_RGB.ipynb\" target=\"_parent\"><img src=\"https://colab.research.google.com/assets/colab-badge.svg\" alt=\"Open In Colab\"/></a>"
      ]
    },
    {
      "cell_type": "code",
      "execution_count": 5,
      "metadata": {
        "id": "K3-ok3uyJYRV"
      },
      "outputs": [],
      "source": [
        "import cv2\n",
        "import numpy as np\n",
        "import matplotlib.pyplot as plt"
      ]
    },
    {
      "cell_type": "code",
      "source": [
        "from google.colab import drive\n",
        "drive.mount(\"/content/drive\")"
      ],
      "metadata": {
        "colab": {
          "base_uri": "https://localhost:8080/"
        },
        "id": "wbbRRnIsJlS8",
        "outputId": "25fd1f32-0a85-4157-a4a4-919ea67bdf46"
      },
      "execution_count": 6,
      "outputs": [
        {
          "output_type": "stream",
          "name": "stdout",
          "text": [
            "Drive already mounted at /content/drive; to attempt to forcibly remount, call drive.mount(\"/content/drive\", force_remount=True).\n"
          ]
        }
      ]
    },
    {
      "cell_type": "code",
      "source": [
        "img = 100 * np.ones((10,10,3), np.uint8)"
      ],
      "metadata": {
        "id": "h_rg0R-4LDfC"
      },
      "execution_count": 7,
      "outputs": []
    },
    {
      "cell_type": "code",
      "source": [
        "#extracción de canales\n",
        "R = img[:,:,0]\n",
        "G = img[:,:,1]\n",
        "B = img[:,:,2]"
      ],
      "metadata": {
        "id": "4hPmET0sLNbk"
      },
      "execution_count": 8,
      "outputs": []
    },
    {
      "cell_type": "code",
      "source": [
        "#modificamos la imagen\n",
        "img[:,:,0] = R\n",
        "img[:,:,1] = G\n",
        "img[:,:,2] = B"
      ],
      "metadata": {
        "id": "U1eI-QNVLT9G"
      },
      "execution_count": 9,
      "outputs": []
    },
    {
      "cell_type": "code",
      "source": [
        "R[:,:] = 255"
      ],
      "metadata": {
        "id": "fDRCZ30GMQ26"
      },
      "execution_count": 17,
      "outputs": []
    },
    {
      "cell_type": "code",
      "source": [
        "R[:,:] = 255\n",
        "G[:,:] = 255\n",
        "B[:,:] = 180"
      ],
      "metadata": {
        "id": "N2BBx1g9MwFV"
      },
      "execution_count": 25,
      "outputs": []
    },
    {
      "cell_type": "code",
      "source": [
        "print(img)"
      ],
      "metadata": {
        "collapsed": true,
        "colab": {
          "base_uri": "https://localhost:8080/"
        },
        "id": "I-0WMcjTMcxE",
        "outputId": "01601b7a-47c6-41c6-f510-62f808020e65"
      },
      "execution_count": 21,
      "outputs": [
        {
          "output_type": "stream",
          "name": "stdout",
          "text": [
            "[[[255 255   0]\n",
            "  [255 255   0]\n",
            "  [255 255   0]\n",
            "  [255 255   0]\n",
            "  [255 255   0]\n",
            "  [255 255   0]\n",
            "  [255 255   0]\n",
            "  [255 255   0]\n",
            "  [255 255   0]\n",
            "  [255 255   0]]\n",
            "\n",
            " [[255 255   0]\n",
            "  [255 255   0]\n",
            "  [255 255   0]\n",
            "  [255 255   0]\n",
            "  [255 255   0]\n",
            "  [255 255   0]\n",
            "  [255 255   0]\n",
            "  [255 255   0]\n",
            "  [255 255   0]\n",
            "  [255 255   0]]\n",
            "\n",
            " [[255 255   0]\n",
            "  [255 255   0]\n",
            "  [255 255   0]\n",
            "  [255 255   0]\n",
            "  [255 255   0]\n",
            "  [255 255   0]\n",
            "  [255 255   0]\n",
            "  [255 255   0]\n",
            "  [255 255   0]\n",
            "  [255 255   0]]\n",
            "\n",
            " [[255 255   0]\n",
            "  [255 255   0]\n",
            "  [255 255   0]\n",
            "  [255 255   0]\n",
            "  [255 255   0]\n",
            "  [255 255   0]\n",
            "  [255 255   0]\n",
            "  [255 255   0]\n",
            "  [255 255   0]\n",
            "  [255 255   0]]\n",
            "\n",
            " [[255 255   0]\n",
            "  [255 255   0]\n",
            "  [255 255   0]\n",
            "  [255 255   0]\n",
            "  [255 255   0]\n",
            "  [255 255   0]\n",
            "  [255 255   0]\n",
            "  [255 255   0]\n",
            "  [255 255   0]\n",
            "  [255 255   0]]\n",
            "\n",
            " [[255 255   0]\n",
            "  [255 255   0]\n",
            "  [255 255   0]\n",
            "  [255 255   0]\n",
            "  [255 255   0]\n",
            "  [255 255   0]\n",
            "  [255 255   0]\n",
            "  [255 255   0]\n",
            "  [255 255   0]\n",
            "  [255 255   0]]\n",
            "\n",
            " [[255 255   0]\n",
            "  [255 255   0]\n",
            "  [255 255   0]\n",
            "  [255 255   0]\n",
            "  [255 255   0]\n",
            "  [255 255   0]\n",
            "  [255 255   0]\n",
            "  [255 255   0]\n",
            "  [255 255   0]\n",
            "  [255 255   0]]\n",
            "\n",
            " [[255 255   0]\n",
            "  [255 255   0]\n",
            "  [255 255   0]\n",
            "  [255 255   0]\n",
            "  [255 255   0]\n",
            "  [255 255   0]\n",
            "  [255 255   0]\n",
            "  [255 255   0]\n",
            "  [255 255   0]\n",
            "  [255 255   0]]\n",
            "\n",
            " [[255 255   0]\n",
            "  [255 255   0]\n",
            "  [255 255   0]\n",
            "  [255 255   0]\n",
            "  [255 255   0]\n",
            "  [255 255   0]\n",
            "  [255 255   0]\n",
            "  [255 255   0]\n",
            "  [255 255   0]\n",
            "  [255 255   0]]\n",
            "\n",
            " [[255 255   0]\n",
            "  [255 255   0]\n",
            "  [255 255   0]\n",
            "  [255 255   0]\n",
            "  [255 255   0]\n",
            "  [255 255   0]\n",
            "  [255 255   0]\n",
            "  [255 255   0]\n",
            "  [255 255   0]\n",
            "  [255 255   0]]]\n"
          ]
        }
      ]
    },
    {
      "cell_type": "code",
      "source": [
        "plt.imshow(img)\n",
        "plt.show()"
      ],
      "metadata": {
        "colab": {
          "base_uri": "https://localhost:8080/",
          "height": 430
        },
        "id": "tHyZvYrvLjEs",
        "outputId": "7b9b63a1-cc94-4e21-f6ce-e5e988abc5d4"
      },
      "execution_count": 26,
      "outputs": [
        {
          "output_type": "display_data",
          "data": {
            "text/plain": [
              "<Figure size 640x480 with 1 Axes>"
            ],
            "image/png": "[encoded data removed]"
          },
          "metadata": {}
        }
      ]
    },
    {
      "cell_type": "code",
      "source": [
        "cv2.waitKey(0)"
      ],
      "metadata": {
        "colab": {
          "base_uri": "https://localhost:8080/"
        },
        "id": "LF3xz7v9LrlZ",
        "outputId": "0495e8fc-0e97-4f62-eae6-b570c641e6ac"
      },
      "execution_count": 11,
      "outputs": [
        {
          "output_type": "execute_result",
          "data": {
            "text/plain": [
              "-1"
            ]
          },
          "metadata": {},
          "execution_count": 11
        }
      ]
    }
  ]
}